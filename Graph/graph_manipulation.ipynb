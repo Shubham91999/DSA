{
 "cells": [
  {
   "cell_type": "code",
   "execution_count": 1,
   "id": "d7600e16",
   "metadata": {},
   "outputs": [
    {
     "data": {
      "text/plain": [
       "[[0, 1], [1, 2], [0, 3], [3, 4], [3, 6], [3, 7], [4, 2], [4, 5], [5, 2]]"
      ]
     },
     "execution_count": 1,
     "metadata": {},
     "output_type": "execute_result"
    }
   ],
   "source": [
    "# Array of edges (Directed)\n",
    "n = 9\n",
    "A = [[0, 1], [1, 2], [0, 3], [3, 4], [3, 6], [3, 7], [4, 2], [4, 5], [5, 2]]\n",
    "A"
   ]
  },
  {
   "cell_type": "markdown",
   "id": "65c376ba",
   "metadata": {},
   "source": [
    "<img src=\"Graph/graph_eg.png\" alt=\"Image of graph\" title=\"Title text\" />\n"
   ]
  },
  {
   "cell_type": "code",
   "execution_count": 2,
   "id": "b2b47abe",
   "metadata": {},
   "outputs": [
    {
     "data": {
      "text/plain": [
       "[[0, 0, 0, 0, 0, 0, 0, 0, 0],\n",
       " [0, 0, 0, 0, 0, 0, 0, 0, 0],\n",
       " [0, 0, 0, 0, 0, 0, 0, 0, 0],\n",
       " [0, 0, 0, 0, 0, 0, 0, 0, 0],\n",
       " [0, 0, 0, 0, 0, 0, 0, 0, 0],\n",
       " [0, 0, 0, 0, 0, 0, 0, 0, 0],\n",
       " [0, 0, 0, 0, 0, 0, 0, 0, 0],\n",
       " [0, 0, 0, 0, 0, 0, 0, 0, 0],\n",
       " [0, 0, 0, 0, 0, 0, 0, 0, 0]]"
      ]
     },
     "execution_count": 2,
     "metadata": {},
     "output_type": "execute_result"
    }
   ],
   "source": [
    "# Converting array of edges to Adjacency Matrix\n",
    "M = []  # List to store adjacency list\n",
    "for i in range(n): # It will create n * n matrix\n",
    "    M.append([0] * n)\n",
    "M"
   ]
  },
  {
   "cell_type": "markdown",
   "id": "457659c3",
   "metadata": {},
   "source": [
    "#### Above we have create a empty adjacency matrix for given graph, now will update it according to given edges"
   ]
  },
  {
   "cell_type": "code",
   "execution_count": 3,
   "id": "b4c8ff40",
   "metadata": {},
   "outputs": [
    {
     "data": {
      "text/plain": [
       "[[0, 1, 0, 1, 0, 0, 0, 0, 0],\n",
       " [0, 0, 1, 0, 0, 0, 0, 0, 0],\n",
       " [0, 0, 0, 0, 0, 0, 0, 0, 0],\n",
       " [0, 0, 0, 0, 1, 0, 1, 1, 0],\n",
       " [0, 0, 1, 0, 0, 1, 0, 0, 0],\n",
       " [0, 0, 1, 0, 0, 0, 0, 0, 0],\n",
       " [0, 0, 0, 0, 0, 0, 0, 0, 0],\n",
       " [0, 0, 0, 0, 0, 0, 0, 0, 0],\n",
       " [0, 0, 0, 0, 0, 0, 0, 0, 0]]"
      ]
     },
     "execution_count": 3,
     "metadata": {},
     "output_type": "execute_result"
    }
   ],
   "source": [
    "# Array of edges A -> u row, v column\n",
    "for u, v in A:\n",
    "    M[u][v] = 1\n",
    "\n",
    "    # If graph is undirected, reverse u and v and set 1\n",
    "    #M[v][u] = 1\n",
    "\n",
    "M"
   ]
  },
  {
   "cell_type": "markdown",
   "id": "8d12cb10",
   "metadata": {},
   "source": [
    "### Adjacency List\n",
    "#### Adjacency lists are often used in graph problems"
   ]
  },
  {
   "cell_type": "code",
   "execution_count": 8,
   "id": "19e82f22",
   "metadata": {},
   "outputs": [
    {
     "data": {
      "text/plain": [
       "defaultdict(list, {0: [1, 3], 1: [2], 3: [4, 6, 7], 4: [2, 5], 5: [2]})"
      ]
     },
     "execution_count": 8,
     "metadata": {},
     "output_type": "execute_result"
    }
   ],
   "source": [
    "# Converting array of edges -> Adjacency List\n",
    "from collections import defaultdict\n",
    "D = defaultdict(list)\n",
    "for u, v in A:\n",
    "    D[u].append(v)\n",
    "\n",
    "    # If graph is undirected\n",
    "    #D[v].append(u)\n",
    "D"
   ]
  },
  {
   "cell_type": "code",
   "execution_count": 5,
   "id": "7b649fd7",
   "metadata": {},
   "outputs": [
    {
     "data": {
      "text/plain": [
       "[4, 6, 7]"
      ]
     },
     "execution_count": 5,
     "metadata": {},
     "output_type": "execute_result"
    }
   ],
   "source": [
    "D[3]"
   ]
  },
  {
   "cell_type": "code",
   "execution_count": 6,
   "id": "c1ab18fa",
   "metadata": {},
   "outputs": [
    {
     "data": {
      "text/plain": [
       "[0, 0, 0, 0, 1, 0, 1, 1, 0]"
      ]
     },
     "execution_count": 6,
     "metadata": {},
     "output_type": "execute_result"
    }
   ],
   "source": [
    "M[3]"
   ]
  },
  {
   "cell_type": "markdown",
   "id": "bf74f600",
   "metadata": {},
   "source": [
    "#### Above comparison shows using adjacency list is easier and more convenient"
   ]
  },
  {
   "cell_type": "markdown",
   "id": "55474c29",
   "metadata": {},
   "source": [
    "### Graph Traversal"
   ]
  },
  {
   "cell_type": "markdown",
   "id": "4e94dc28",
   "metadata": {},
   "source": [
    "#### DFS with Recursion - O(V+E) where V is no of vertices/nodes and E is no of edges/arcs"
   ]
  },
  {
   "cell_type": "code",
   "execution_count": 10,
   "id": "562046bb",
   "metadata": {},
   "outputs": [
    {
     "name": "stdout",
     "output_type": "stream",
     "text": [
      "0\n",
      "1\n",
      "2\n",
      "3\n",
      "4\n",
      "5\n",
      "6\n",
      "7\n"
     ]
    }
   ],
   "source": [
    "def dfs_recursive(node):\n",
    "    print(node)  # Printing current node\n",
    "    for nei_node in D[node]:  # Check if we already visited that node\n",
    "        if nei_node not in seen:  # If not visited, add in seen set and call dfs recursively\n",
    "            seen.add(nei_node)\n",
    "            dfs_recursive(nei_node)\n",
    "\n",
    "\n",
    "source = 0\n",
    "seen = set() # set to store visited items, so we do not revisit\n",
    "seen.add(source)\n",
    "dfs_recursive(source)"
   ]
  },
  {
   "cell_type": "markdown",
   "id": "b1e5a1ac",
   "metadata": {},
   "source": [
    "#### Iterative DFS with stack - O(V + E)"
   ]
  },
  {
   "cell_type": "code",
   "execution_count": 12,
   "id": "d1bf1e4e",
   "metadata": {},
   "outputs": [
    {
     "name": "stdout",
     "output_type": "stream",
     "text": [
      "0\n",
      "3\n",
      "7\n",
      "6\n",
      "4\n",
      "5\n",
      "2\n",
      "1\n"
     ]
    }
   ],
   "source": [
    "source = 0\n",
    "seen = set()\n",
    "seen.add(source)\n",
    "\n",
    "stack = [source] # Stack for iterative calls\n",
    "\n",
    "while stack: # Loop till stack have nodes\n",
    "    node = stack.pop() # Pop/Visit top node\n",
    "    print(node)\n",
    "\n",
    "    for nei_node in D[node]: # Loop through all nodes present as values for that node\n",
    "        if nei_node not in seen:  # if value node is not visited \n",
    "            seen.add(nei_node)   # Add in seen set\n",
    "            stack.append(nei_node)  # Append it in stack for getting processed later"
   ]
  },
  {
   "cell_type": "markdown",
   "id": "c39af793",
   "metadata": {},
   "source": [
    "#### BFS with QUEUE - O (V + E)"
   ]
  },
  {
   "cell_type": "code",
   "execution_count": 13,
   "id": "24825d91",
   "metadata": {},
   "outputs": [
    {
     "name": "stdout",
     "output_type": "stream",
     "text": [
      "0\n",
      "1\n",
      "3\n",
      "2\n",
      "4\n",
      "6\n",
      "7\n",
      "5\n"
     ]
    }
   ],
   "source": [
    "from collections import deque\n",
    "source = 0\n",
    "seen = set()\n",
    "seen.add(source)\n",
    " \n",
    "q = deque()\n",
    "q.append(source)\n",
    "\n",
    "while q:\n",
    "    node = q.popleft()\n",
    "    print(node)\n",
    "    for nei_node in D[node]:\n",
    "        if nei_node not in seen:\n",
    "            seen.add(nei_node)\n",
    "            q.append(nei_node)\n",
    "\n"
   ]
  },
  {
   "cell_type": "markdown",
   "id": "9a966701",
   "metadata": {},
   "source": [
    "### Storing graph as Class Object"
   ]
  },
  {
   "cell_type": "code",
   "execution_count": 16,
   "id": "4d36d3f7",
   "metadata": {},
   "outputs": [
    {
     "data": {
      "text/plain": [
       "\"A is connected to: ['B']\""
      ]
     },
     "execution_count": 16,
     "metadata": {},
     "output_type": "execute_result"
    }
   ],
   "source": [
    "class Node:\n",
    "    def __init__(self, value):\n",
    "        self.value = value\n",
    "        self.neighbors = []\n",
    "\n",
    "    def __str__(self):\n",
    "        return f'None({self.value})'\n",
    "    \n",
    "    def display(self):\n",
    "        connections = [node.value for node in self.neighbors]\n",
    "        return f'{self.value} is connected to: {connections}'\n",
    "    \n",
    "A = Node('A')\n",
    "B = Node('B')\n",
    "C = Node('C')\n",
    "D = Node('D')\n",
    "\n",
    "A.neighbors.append(B)\n",
    "B.neighbors.append(A)\n",
    "C.neighbors.append(D)\n",
    "D.neighbors.append(C)\n",
    "\n",
    "A.display()\n"
   ]
  }
 ],
 "metadata": {
  "kernelspec": {
   "display_name": "base",
   "language": "python",
   "name": "python3"
  },
  "language_info": {
   "codemirror_mode": {
    "name": "ipython",
    "version": 3
   },
   "file_extension": ".py",
   "mimetype": "text/x-python",
   "name": "python",
   "nbconvert_exporter": "python",
   "pygments_lexer": "ipython3",
   "version": "3.11.5"
  }
 },
 "nbformat": 4,
 "nbformat_minor": 5
}
